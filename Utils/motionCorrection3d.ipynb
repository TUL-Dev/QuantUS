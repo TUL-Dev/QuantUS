{
 "cells": [
  {
   "cell_type": "code",
   "execution_count": 2,
   "metadata": {},
   "outputs": [],
   "source": [
    "# Parameters\n",
    "thres=0.1\n",
    "frame_skip=1\n",
    "avgths=25\n",
    "avgsmth=0.1\n",
    "imgths=10\n",
    "imgsmth=1\n",
    "pixscalx=0.5\n",
    "pixscaly=0.5\n",
    "pixscalz=0.5"
   ]
  },
  {
   "cell_type": "code",
   "execution_count": 4,
   "metadata": {},
   "outputs": [],
   "source": [
    "# Input variables\n",
    "workdir = \"/Users/davidspector/Home/Stanford/CEUS_3d_test_data/C3P16\"\n",
    "name = \"20190409122742.355.nii.gz\"\n",
    "wl = \"test\" # what is this?"
   ]
  },
  {
   "cell_type": "code",
   "execution_count": null,
   "metadata": {},
   "outputs": [],
   "source": [
    "# Pipeline starts here\n",
    "\n",
    "# Make new directory called name and put data + mask in there\n",
    "\n",
    "# Make mask subdirectory in name and put all masks in there\n",
    "\n",
    "# Make tmp subdirectory in name as well"
   ]
  }
 ],
 "metadata": {
  "kernelspec": {
   "display_name": "venv",
   "language": "python",
   "name": "python3"
  },
  "language_info": {
   "codemirror_mode": {
    "name": "ipython",
    "version": 3
   },
   "file_extension": ".py",
   "mimetype": "text/x-python",
   "name": "python",
   "nbconvert_exporter": "python",
   "pygments_lexer": "ipython3",
   "version": "3.9.13"
  },
  "orig_nbformat": 4
 },
 "nbformat": 4,
 "nbformat_minor": 2
}
