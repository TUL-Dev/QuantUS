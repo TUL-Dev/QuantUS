{
 "cells": [
  {
   "cell_type": "markdown",
   "metadata": {},
   "source": [
    "# Sample Canon Analysis"
   ]
  },
  {
   "cell_type": "markdown",
   "metadata": {},
   "source": [
    "## Select Image & Phantom and Parse"
   ]
  },
  {
   "cell_type": "code",
   "execution_count": 1,
   "metadata": {},
   "outputs": [],
   "source": [
    "from pathlib import Path\n",
    "\n",
    "from Parsers.canonBinParser import findPreset, getImage"
   ]
  },
  {
   "cell_type": "code",
   "execution_count": 2,
   "metadata": {},
   "outputs": [],
   "source": [
    "# Inputs\n",
    "imagePath = Path(\"/media/das/CREST Data/David_S_Data/ATI-Data-CanonFatStudy/001/Preset_2/20220427104128_IQ.bin\")\n",
    "phantomPath = Path(\"/media/das/CREST Data/David_S_Data/ATI-Data-CanonFatStudy/Phantom data/Preset_2/20220831121752_IQ.bin\")"
   ]
  },
  {
   "cell_type": "code",
   "execution_count": 3,
   "metadata": {},
   "outputs": [],
   "source": [
    "imPreset = findPreset(imagePath)\n",
    "phantomPreset = findPreset(phantomPath)\n",
    "assert imPreset == phantomPreset"
   ]
  },
  {
   "cell_type": "code",
   "execution_count": 4,
   "metadata": {},
   "outputs": [
    {
     "name": "stderr",
     "output_type": "stream",
     "text": [
      "/home/das/QuantUS_Projs/QuantUS/Parsers/canonBinParser.py:84: RuntimeWarning: divide by zero encountered in log10\n",
      "  bmode = 20*np.log10(abs(iq))\n"
     ]
    },
    {
     "name": "stdout",
     "output_type": "stream",
     "text": [
      "Preset 2 found!\n",
      "Preset 2 found!\n"
     ]
    }
   ],
   "source": [
    "imgDataStruct, imgInfoStruct, refDataStruct, refInfoStuct = getImage(\n",
    "    f\"{imagePath.name}\", f\"{imagePath.parent}\", f\"{phantomPath.name}\", f\"{phantomPath.parent}\"\n",
    ")"
   ]
  },
  {
   "cell_type": "markdown",
   "metadata": {},
   "source": [
    "## ROI Selection (from GUI)"
   ]
  },
  {
   "cell_type": "code",
   "execution_count": 5,
   "metadata": {},
   "outputs": [],
   "source": [
    "import pickle\n",
    "\n",
    "pkl_name = Path(\"/media/das/CREST Data/David_S_Data/ATI-Data-CanonFatStudy/Phantom data/Preset_2/test.pkl\")\n",
    "\n",
    "with open(pkl_name, \"rb\") as f:\n",
    "    pkl_info = pickle.load(f)"
   ]
  },
  {
   "cell_type": "code",
   "execution_count": 6,
   "metadata": {},
   "outputs": [],
   "source": [
    "assert pkl_info.imName == imagePath.name\n",
    "assert pkl_info.phantomName == phantomPath.name"
   ]
  },
  {
   "cell_type": "code",
   "execution_count": 7,
   "metadata": {},
   "outputs": [],
   "source": [
    "scSplineX = pkl_info.finalSplineX\n",
    "scSplineY = pkl_info.finalSplineY"
   ]
  },
  {
   "cell_type": "markdown",
   "metadata": {},
   "source": [
    "## Analysis Config (from GUI)"
   ]
  },
  {
   "cell_type": "code",
   "execution_count": 8,
   "metadata": {},
   "outputs": [],
   "source": [
    "from pyQus.analysisObjects import Config"
   ]
  },
  {
   "cell_type": "code",
   "execution_count": 9,
   "metadata": {},
   "outputs": [],
   "source": [
    "config = Config()\n",
    "config.analysisFreqBand = [pkl_info.lowBandFreq, pkl_info.upBandFreq]\n",
    "config.axialOverlap = pkl_info.axialOverlap\n",
    "config.axWinSize = pkl_info.axialWinSize\n",
    "config.lateralOverlap = pkl_info.lateralOverlap\n",
    "config.latWinSize = pkl_info.lateralWinSize\n",
    "config.samplingFrequency = pkl_info.samplingFreq\n",
    "config.transducerFreqBand = [pkl_info.minFrequency, pkl_info.maxFrequency]\n",
    "config.windowThresh = pkl_info.threshold/100"
   ]
  },
  {
   "cell_type": "markdown",
   "metadata": {},
   "source": [
    "## Spectral Analysis"
   ]
  },
  {
   "cell_type": "code",
   "execution_count": 10,
   "metadata": {},
   "outputs": [],
   "source": [
    "from pyQus.spectral import SpectralAnalysis\n",
    "from pyQus.analysisObjects import UltrasoundImage"
   ]
  },
  {
   "cell_type": "code",
   "execution_count": 11,
   "metadata": {},
   "outputs": [],
   "source": [
    "ultrasoundImage = UltrasoundImage()\n",
    "ultrasoundImage.axialResRf = imgInfoStruct.depth / imgDataStruct.rf.shape[0]\n",
    "ultrasoundImage.lateralResRf = ultrasoundImage.axialResRf * (\n",
    "    imgDataStruct.rf.shape[0]/imgDataStruct.rf.shape[1]\n",
    ") # placeholder\n",
    "ultrasoundImage.bmode = imgDataStruct.scBmodeStruct.preScArr\n",
    "ultrasoundImage.phantomRf = refDataStruct.rf\n",
    "ultrasoundImage.rf = imgDataStruct.rf\n",
    "ultrasoundImage.scBmode = imgDataStruct.scBmode\n",
    "ultrasoundImage.xmap = imgDataStruct.scBmodeStruct.xmap\n",
    "ultrasoundImage.ymap = imgDataStruct.scBmodeStruct.ymap"
   ]
  },
  {
   "cell_type": "code",
   "execution_count": 12,
   "metadata": {},
   "outputs": [],
   "source": [
    "spectralAnalysis = SpectralAnalysis()\n",
    "spectralAnalysis.ultrasoundImage = ultrasoundImage\n",
    "spectralAnalysis.config = config\n",
    "spectralAnalysis.scSplineX = scSplineX\n",
    "spectralAnalysis.scSplineY = scSplineY"
   ]
  },
  {
   "cell_type": "code",
   "execution_count": 13,
   "metadata": {},
   "outputs": [],
   "source": [
    "spectralAnalysis.splineToPreSc()\n",
    "spectralAnalysis.generateRoiWindows()\n",
    "spectralAnalysis.computeSpecWindows()"
   ]
  },
  {
   "cell_type": "markdown",
   "metadata": {},
   "source": [
    "# Visualizations"
   ]
  },
  {
   "cell_type": "markdown",
   "metadata": {},
   "source": []
  }
 ],
 "metadata": {
  "kernelspec": {
   "display_name": "venv",
   "language": "python",
   "name": "python3"
  },
  "language_info": {
   "codemirror_mode": {
    "name": "ipython",
    "version": 3
   },
   "file_extension": ".py",
   "mimetype": "text/x-python",
   "name": "python",
   "nbconvert_exporter": "python",
   "pygments_lexer": "ipython3",
   "version": "3.10.12"
  }
 },
 "nbformat": 4,
 "nbformat_minor": 2
}
