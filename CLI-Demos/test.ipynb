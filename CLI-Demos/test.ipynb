{
 "cells": [
  {
   "cell_type": "code",
   "execution_count": 1,
   "metadata": {},
   "outputs": [],
   "source": [
    "import pickle\n",
    "from pathlib import Path\n",
    "\n",
    "pkl_name = Path(\"/Volumes/CREST Data/David_S_Data/ATI-Data-CanonFatStudy/003/ROIs/ 20220503084651_IQ/high.pkl\")\n",
    "\n",
    "with open(pkl_name, \"rb\") as f:\n",
    "    pkl_data = pickle.load(f)"
   ]
  },
  {
   "cell_type": "code",
   "execution_count": 34,
   "metadata": {},
   "outputs": [
    {
     "data": {
      "text/plain": [
       "'20220831121752_IQ.bin'"
      ]
     },
     "execution_count": 34,
     "metadata": {},
     "output_type": "execute_result"
    }
   ],
   "source": [
    "pkl_data.keys()\n",
    "pkl_data[\"Phantom Name\"]"
   ]
  },
  {
   "cell_type": "code",
   "execution_count": 7,
   "metadata": {},
   "outputs": [],
   "source": [
    "import pandas as pd\n",
    "\n",
    "csv_file_path = \"/Volumes/CREST Data/David_S_Data/ATI-Data-CanonFatStudy/ROIs/003/20220503084651_IQ/high.csv\""
   ]
  },
  {
   "cell_type": "code",
   "execution_count": 8,
   "metadata": {},
   "outputs": [
    {
     "data": {
      "text/html": [
       "<div>\n",
       "<style scoped>\n",
       "    .dataframe tbody tr th:only-of-type {\n",
       "        vertical-align: middle;\n",
       "    }\n",
       "\n",
       "    .dataframe tbody tr th {\n",
       "        vertical-align: top;\n",
       "    }\n",
       "\n",
       "    .dataframe thead th {\n",
       "        text-align: right;\n",
       "    }\n",
       "</style>\n",
       "<table border=\"1\" class=\"dataframe\">\n",
       "  <thead>\n",
       "    <tr style=\"text-align: right;\">\n",
       "      <th></th>\n",
       "      <th>Image Name</th>\n",
       "      <th>Spline x points</th>\n",
       "      <th>Spline y points</th>\n",
       "    </tr>\n",
       "  </thead>\n",
       "  <tbody>\n",
       "    <tr>\n",
       "      <th>0</th>\n",
       "      <td>20220503084651_IQ.bin</td>\n",
       "      <td>[431, 403, 393, 399, 412, 437, 461]</td>\n",
       "      <td>[243, 238, 222, 198, 187, 186, 214]</td>\n",
       "    </tr>\n",
       "  </tbody>\n",
       "</table>\n",
       "</div>"
      ],
      "text/plain": [
       "              Image Name                      Spline x points  \\\n",
       "0  20220503084651_IQ.bin  [431, 403, 393, 399, 412, 437, 461]   \n",
       "\n",
       "                       Spline y points  \n",
       "0  [243, 238, 222, 198, 187, 186, 214]  "
      ]
     },
     "execution_count": 8,
     "metadata": {},
     "output_type": "execute_result"
    }
   ],
   "source": [
    "csv_data = pd.read_csv(csv_file_path)\n",
    "csv_data.head()"
   ]
  },
  {
   "cell_type": "code",
   "execution_count": 33,
   "metadata": {},
   "outputs": [
    {
     "data": {
      "text/plain": [
       "'20220503084651_IQ.bin'"
      ]
     },
     "execution_count": 33,
     "metadata": {},
     "output_type": "execute_result"
    }
   ],
   "source": [
    "csv_data[\"Image Name\"][0]"
   ]
  },
  {
   "cell_type": "code",
   "execution_count": 23,
   "metadata": {},
   "outputs": [],
   "source": [
    "import ast\n",
    "\n",
    "xSpline = ast.literal_eval(csv_data[\"Spline x points\"][0])\n",
    "ySpline = ast.literal_eval(csv_data[\"Spline y points\"][0])"
   ]
  },
  {
   "cell_type": "code",
   "execution_count": 25,
   "metadata": {},
   "outputs": [],
   "source": [
    "xSpline.append(xSpline[0])\n",
    "ySpline.append(ySpline[0])"
   ]
  },
  {
   "cell_type": "code",
   "execution_count": 50,
   "metadata": {},
   "outputs": [],
   "source": [
    "import scipy.interpolate as interpolate\n",
    "import numpy as np\n",
    "import pandas as pd\n",
    "import ast\n",
    "\n",
    "def calculateSpline(xpts, ypts):  # 2D spline interpolation\n",
    "    cv = []\n",
    "    for i in range(len(xpts)):\n",
    "        cv.append([xpts[i], ypts[i]])\n",
    "    cv = np.array(cv)\n",
    "    if len(xpts) == 2:\n",
    "        tck, _ = interpolate.splprep(cv.T, s=0.0, k=1)\n",
    "    elif len(xpts) == 3:\n",
    "        tck, _ = interpolate.splprep(cv.T, s=0.0, k=2)\n",
    "    else:\n",
    "        tck, _ = interpolate.splprep(cv.T, s=0.0, k=3)\n",
    "    x, y = np.array(interpolate.splev(np.linspace(0, 1, 1000), tck))\n",
    "    return x, y\n",
    "\n",
    "preset1_phantom = '20220831121844_IQ.bin'\n",
    "preset2_phantom = '20220831121752_IQ.bin'\n",
    "\n",
    "def convertCsvToPkl(csv_file_path: str, preset: int):\n",
    "    csv_data = pd.read_csv(csv_file_path)\n",
    "    xSpline = ast.literal_eval(csv_data[\"Spline x points\"][0])\n",
    "    ySpline = ast.literal_eval(csv_data[\"Spline y points\"][0])\n",
    "    xSpline.append(xSpline[0])\n",
    "    ySpline.append(ySpline[0])\n",
    "    \n",
    "    interp_x, interp_y = calculateSpline(xSpline, ySpline)\n",
    "    \n",
    "    if preset == 2:\n",
    "        output = {\"Image Name\": csv_data[\"Image Name\"][0], \"Phantom Name\": preset2_phantom,\n",
    "            \"Spline X\": interp_x, \"Spline Y\": interp_y}\n",
    "    else:\n",
    "        output = {\"Image Name\": csv_data[\"Image Name\"][0], \"Phantom Name\": preset1_phantom,\n",
    "            \"Spline X\": interp_x, \"Spline Y\": interp_y}\n",
    "        \n",
    "    dest_path = Path(csv_file_path).parent / Path(str(Path(csv_file_path).stem + \".pkl\"))\n",
    "    \n",
    "    with open(dest_path, mode=\"wb\") as pklfile:\n",
    "        pickle.dump(output, pklfile, protocol=pickle.HIGHEST_PROTOCOL)\n"
   ]
  },
  {
   "cell_type": "code",
   "execution_count": 61,
   "metadata": {},
   "outputs": [],
   "source": [
    "import shutil\n",
    "\n",
    "roi_folder = Path(\"/Volumes/CREST Data/David_S_Data/ATI-Data-CanonFatStudy/ROIs/\")\n",
    "file_folder = Path(\"/Volumes/CREST Data/David_S_Data/ATI-Data-CanonFatStudy\")\n",
    "\n",
    "for patient_folder in roi_folder.iterdir():\n",
    "    if patient_folder.is_dir() and not patient_folder.name.startswith(\".\"):\n",
    "        dest_roi_folder = file_folder / patient_folder.name / Path(\"ROIs\")\n",
    "        dest_roi_folder.mkdir(parents=True, exist_ok=True)\n",
    "        for scan_folder in patient_folder.iterdir():\n",
    "            if scan_folder.is_dir() and not scan_folder.name.startswith(\".\"):\n",
    "                dest_scan_folder = dest_roi_folder / scan_folder.name\n",
    "                dest_scan_folder.mkdir(parents=True, exist_ok=True)\n",
    "                for item in scan_folder.iterdir():\n",
    "                    if item.is_file() and not item.name.startswith(\".\") and item.name.endswith(\".pkl\"):\n",
    "                        shutil.copy(item, dest_scan_folder / item.name)\n",
    "                \n",
    "                \n",
    "        # scan_folder.mkdir(parents=True, exist_ok=True)\n",
    "        # for item in patient_folder.iterdir():\n",
    "        #     if item.is_file():\n",
    "        #         dest = scan_folder / item.name\n",
    "        #         dest.write_bytes(item.read_bytes())\n",
    "        # for csv_file in scan_folder.iterdir():\n",
    "        #     if csv_file.suffix == \".csv\" and not csv_file.name.startswith(\".\"):\n",
    "        #         convertCsvToPkl(csv_file, 2)"
   ]
  },
  {
   "cell_type": "code",
   "execution_count": null,
   "metadata": {},
   "outputs": [],
   "source": []
  },
  {
   "cell_type": "code",
   "execution_count": 35,
   "metadata": {},
   "outputs": [],
   "source": [
    "interp_x, interp_y = calculateSpline(xSpline, ySpline)\n",
    "\n",
    "preset1_phantom = '20220831121844_IQ.bin'\n",
    "preset2_phantom = '20220831121752_IQ.bin'"
   ]
  },
  {
   "cell_type": "code",
   "execution_count": 36,
   "metadata": {},
   "outputs": [],
   "source": [
    "output = {\"Image Name\": csv_data[\"Image Name\"][0], \"Phantom Name\": preset2_phantom,\n",
    "            \"Spline X\": interp_x, \"Spline Y\": interp_y}"
   ]
  },
  {
   "cell_type": "code",
   "execution_count": 42,
   "metadata": {},
   "outputs": [],
   "source": [
    "dest_path = Path(csv_file_path).parent / Path(str(Path(csv_file_path).stem + \".pkl\"))"
   ]
  },
  {
   "cell_type": "code",
   "execution_count": 43,
   "metadata": {},
   "outputs": [],
   "source": [
    "with open(dest_path, mode=\"wb\") as pklfile:\n",
    "    pickle.dump(output, pklfile, protocol=pickle.HIGHEST_PROTOCOL)"
   ]
  },
  {
   "cell_type": "code",
   "execution_count": 22,
   "metadata": {},
   "outputs": [
    {
     "data": {
      "text/plain": [
       "[431, 403, 393, 399, 412, 437, 461]"
      ]
     },
     "execution_count": 22,
     "metadata": {},
     "output_type": "execute_result"
    }
   ],
   "source": [
    "self.spectralData.splineX, self.spectralData.splineY = calculateSpline(\n",
    "    self.pointsPlottedX, self.pointsPlottedY\n",
    ")\n",
    "self.spectralData.splineX = np.clip(self.spectralData.splineX, a_min=0, a_max=self.spectralData.pixWidth-1)\n",
    "self.spectralData.splineY = np.clip(self.spectralData.splineY, a_min=0, a_max=self.spectralData.pixDepth-1)\n",
    "\n",
    "try:\n",
    "    if self.spectralData.numSamplesDrOut == 1400:\n",
    "        self.spectralData.splineX = np.clip(self.spectralData.splineX, a_min=148, a_max=573)\n",
    "        self.spectralData.splineY = np.clip(self.spectralData.splineY, a_min=0.5, a_max=387)\n",
    "    elif self.spectralData.numSamplesDrOut == 1496:\n",
    "        self.spectralData.splineX = np.clip(self.spectralData.splineX, a_min=120, a_max=615)\n",
    "        self.spectralData.splineY = np.clip(self.spectralData.splineY, a_min=0.5, a_max=645)\n",
    "    # elif self.ImDisplayInfo.numSamplesDrOut != -1:\n",
    "    #     print(\"Preset not found!\")\n",
    "    #     return\n",
    "except (AttributeError, UnboundLocalError):\n",
    "    pass\n"
   ]
  }
 ],
 "metadata": {
  "kernelspec": {
   "display_name": "QuantUS-env",
   "language": "python",
   "name": "python3"
  },
  "language_info": {
   "codemirror_mode": {
    "name": "ipython",
    "version": 3
   },
   "file_extension": ".py",
   "mimetype": "text/x-python",
   "name": "python",
   "nbconvert_exporter": "python",
   "pygments_lexer": "ipython3",
   "version": "3.11.10"
  }
 },
 "nbformat": 4,
 "nbformat_minor": 2
}
