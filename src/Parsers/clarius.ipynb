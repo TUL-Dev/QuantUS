{
 "cells": [
  {
   "cell_type": "code",
   "execution_count": 27,
   "metadata": {},
   "outputs": [],
   "source": [
    "from pathlib import Path\n",
    "\n",
    "import numpy as np"
   ]
  },
  {
   "cell_type": "code",
   "execution_count": 29,
   "metadata": {},
   "outputs": [],
   "source": [
    "import skimage.transform\n",
    "\n",
    "\n",
    "def read_env(filename):\n",
    "    hdr_info = (\"id\", \"frames\", \"lines\", \"samples\", \"samplesize\")\n",
    "    hdr, timestamps, data = {}, None, None\n",
    "    with open(filename, \"rb\") as raw_bytes:\n",
    "        # read 4 bytes header\n",
    "        for info in hdr_info:\n",
    "            hdr[info] = int.from_bytes(raw_bytes.read(4), byteorder=\"little\")\n",
    "        # read timestamps and data\n",
    "        timestamps = np.zeros(hdr[\"frames\"], dtype=\"int64\")\n",
    "        sz = hdr[\"lines\"] * hdr[\"samples\"] * hdr[\"samplesize\"]\n",
    "        data = np.zeros((hdr[\"lines\"], hdr[\"samples\"], hdr[\"frames\"]), dtype=\"uint8\")\n",
    "        for frame in range(hdr[\"frames\"]):\n",
    "            # read 8 bytes of timestamp\n",
    "            timestamps[frame] = int.from_bytes(raw_bytes.read(8), byteorder=\"little\")\n",
    "            # read each frame\n",
    "            data[:, :, frame] = np.frombuffer(\n",
    "                raw_bytes.read(sz), dtype=\"uint8\"\n",
    "            ).reshape([hdr[\"lines\"], hdr[\"samples\"]])\n",
    "    print(\n",
    "        \"Loaded {d[2]} raw frames of size, {d[0]} x {d[1]} (lines x samples)\".format(\n",
    "            d=data.shape\n",
    "        )\n",
    "    )\n",
    "    target_shape = (2928, 192)\n",
    "    dataEnv = np.transpose(data, [1, 0, 2])\n",
    "    data = np.zeros([2928, 192, dataEnv.shape[2]])\n",
    "    for ii in range(0, dataEnv.shape[2]):\n",
    "        data[:, :, ii] = skimage.transform.resize(\n",
    "            dataEnv[:, :, ii], target_shape, anti_aliasing=True\n",
    "        )\n",
    "    data = np.flip(data, axis=1)\n",
    "    return hdr, timestamps, data"
   ]
  },
  {
   "cell_type": "code",
   "execution_count": 41,
   "metadata": {},
   "outputs": [
    {
     "ename": "ValueError",
     "evalue": "array is too big; `arr.size * arr.dtype.itemsize` is larger than the maximum possible size.",
     "output_type": "error",
     "traceback": [
      "\u001b[0;31m---------------------------------------------------------------------------\u001b[0m",
      "\u001b[0;31mValueError\u001b[0m                                Traceback (most recent call last)",
      "Cell \u001b[0;32mIn[41], line 2\u001b[0m\n\u001b[1;32m      1\u001b[0m file_path \u001b[38;5;241m=\u001b[39m Path(\u001b[38;5;124m\"\u001b[39m\u001b[38;5;124m/Volumes/CREST Data/David_S_Data/Clarius_RF_Data/a896ef50-1922-4df2-8995-a57b5a46d800/2024-10-29T13-00-21+0000_rf.raw.lzo\u001b[39m\u001b[38;5;124m\"\u001b[39m)\n\u001b[0;32m----> 2\u001b[0m \u001b[43mread_env\u001b[49m\u001b[43m(\u001b[49m\u001b[43mfile_path\u001b[49m\u001b[43m)\u001b[49m\n",
      "Cell \u001b[0;32mIn[29], line 14\u001b[0m, in \u001b[0;36mread_env\u001b[0;34m(filename)\u001b[0m\n\u001b[1;32m     12\u001b[0m timestamps \u001b[38;5;241m=\u001b[39m np\u001b[38;5;241m.\u001b[39mzeros(hdr[\u001b[38;5;124m\"\u001b[39m\u001b[38;5;124mframes\u001b[39m\u001b[38;5;124m\"\u001b[39m], dtype\u001b[38;5;241m=\u001b[39m\u001b[38;5;124m\"\u001b[39m\u001b[38;5;124mint64\u001b[39m\u001b[38;5;124m\"\u001b[39m)\n\u001b[1;32m     13\u001b[0m sz \u001b[38;5;241m=\u001b[39m hdr[\u001b[38;5;124m\"\u001b[39m\u001b[38;5;124mlines\u001b[39m\u001b[38;5;124m\"\u001b[39m] \u001b[38;5;241m*\u001b[39m hdr[\u001b[38;5;124m\"\u001b[39m\u001b[38;5;124msamples\u001b[39m\u001b[38;5;124m\"\u001b[39m] \u001b[38;5;241m*\u001b[39m hdr[\u001b[38;5;124m\"\u001b[39m\u001b[38;5;124msamplesize\u001b[39m\u001b[38;5;124m\"\u001b[39m]\n\u001b[0;32m---> 14\u001b[0m data \u001b[38;5;241m=\u001b[39m \u001b[43mnp\u001b[49m\u001b[38;5;241;43m.\u001b[39;49m\u001b[43mzeros\u001b[49m\u001b[43m(\u001b[49m\u001b[43m(\u001b[49m\u001b[43mhdr\u001b[49m\u001b[43m[\u001b[49m\u001b[38;5;124;43m\"\u001b[39;49m\u001b[38;5;124;43mlines\u001b[39;49m\u001b[38;5;124;43m\"\u001b[39;49m\u001b[43m]\u001b[49m\u001b[43m,\u001b[49m\u001b[43m \u001b[49m\u001b[43mhdr\u001b[49m\u001b[43m[\u001b[49m\u001b[38;5;124;43m\"\u001b[39;49m\u001b[38;5;124;43msamples\u001b[39;49m\u001b[38;5;124;43m\"\u001b[39;49m\u001b[43m]\u001b[49m\u001b[43m,\u001b[49m\u001b[43m \u001b[49m\u001b[43mhdr\u001b[49m\u001b[43m[\u001b[49m\u001b[38;5;124;43m\"\u001b[39;49m\u001b[38;5;124;43mframes\u001b[39;49m\u001b[38;5;124;43m\"\u001b[39;49m\u001b[43m]\u001b[49m\u001b[43m)\u001b[49m\u001b[43m,\u001b[49m\u001b[43m \u001b[49m\u001b[43mdtype\u001b[49m\u001b[38;5;241;43m=\u001b[39;49m\u001b[38;5;124;43m\"\u001b[39;49m\u001b[38;5;124;43muint8\u001b[39;49m\u001b[38;5;124;43m\"\u001b[39;49m\u001b[43m)\u001b[49m\n\u001b[1;32m     15\u001b[0m \u001b[38;5;28;01mfor\u001b[39;00m frame \u001b[38;5;129;01min\u001b[39;00m \u001b[38;5;28mrange\u001b[39m(hdr[\u001b[38;5;124m\"\u001b[39m\u001b[38;5;124mframes\u001b[39m\u001b[38;5;124m\"\u001b[39m]):\n\u001b[1;32m     16\u001b[0m     \u001b[38;5;66;03m# read 8 bytes of timestamp\u001b[39;00m\n\u001b[1;32m     17\u001b[0m     timestamps[frame] \u001b[38;5;241m=\u001b[39m \u001b[38;5;28mint\u001b[39m\u001b[38;5;241m.\u001b[39mfrom_bytes(raw_bytes\u001b[38;5;241m.\u001b[39mread(\u001b[38;5;241m8\u001b[39m), byteorder\u001b[38;5;241m=\u001b[39m\u001b[38;5;124m\"\u001b[39m\u001b[38;5;124mlittle\u001b[39m\u001b[38;5;124m\"\u001b[39m)\n",
      "\u001b[0;31mValueError\u001b[0m: array is too big; `arr.size * arr.dtype.itemsize` is larger than the maximum possible size."
     ]
    }
   ],
   "source": [
    "file_path = Path(\"/Volumes/CREST Data/David_S_Data/Clarius_RF_Data/a896ef50-1922-4df2-8995-a57b5a46d800/2024-10-29T13-00-21+0000_rf.raw.lzo\")\n",
    "read_env(file_path)"
   ]
  },
  {
   "cell_type": "code",
   "execution_count": 42,
   "metadata": {},
   "outputs": [],
   "source": [
    "hdr_info = (\"id\", \"frames\", \"lines\", \"samples\", \"samplesize\")\n",
    "hdr, timestamps, data = {}, None, None\n",
    "with open(file_path, \"rb\") as f:\n",
    "    for info in hdr_info:\n",
    "        hdr[info] = int.from_bytes(f.read(4), byteorder=\"little\")"
   ]
  },
  {
   "cell_type": "code",
   "execution_count": 43,
   "metadata": {},
   "outputs": [
    {
     "data": {
      "text/plain": [
       "{'id': 1331317897,\n",
       " 'frames': 436866304,\n",
       " 'lines': 537923594,\n",
       " 'samples': 20973872,\n",
       " 'samplesize': 773}"
      ]
     },
     "execution_count": 43,
     "metadata": {},
     "output_type": "execute_result"
    }
   ],
   "source": [
    "hdr"
   ]
  }
 ],
 "metadata": {
  "kernelspec": {
   "display_name": "venv",
   "language": "python",
   "name": "python3"
  },
  "language_info": {
   "codemirror_mode": {
    "name": "ipython",
    "version": 3
   },
   "file_extension": ".py",
   "mimetype": "text/x-python",
   "name": "python",
   "nbconvert_exporter": "python",
   "pygments_lexer": "ipython3",
   "version": "3.9.13"
  }
 },
 "nbformat": 4,
 "nbformat_minor": 2
}
